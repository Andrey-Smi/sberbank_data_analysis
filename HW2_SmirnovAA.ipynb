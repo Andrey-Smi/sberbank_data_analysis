{
 "cells": [
  {
   "cell_type": "code",
   "execution_count": 1,
   "metadata": {},
   "outputs": [],
   "source": [
    "import numpy as np"
   ]
  },
  {
   "cell_type": "markdown",
   "metadata": {},
   "source": [
    "### Упражнение 1\n",
    "\n",
    "На одном графике изобразите время затраченное на вычисление с использованием массивов numpy и стандартных списков в питоне.  \n",
    "Для более точных результатов замеряйте время выполнения функции несколько раз и усредняйте. \n",
    "* Используйте функцию `z = 2*x**2 + 4*y`\n",
    "* Перемножение матриц размера n на n"
   ]
  },
  {
   "cell_type": "code",
   "execution_count": 11,
   "metadata": {},
   "outputs": [],
   "source": [
    "n=4\n",
    "x = (100*np.random.random((n, n))).round()\n",
    "y = (100*np.random.random((n, n))).round()\n"
   ]
  },
  {
   "cell_type": "code",
   "execution_count": 12,
   "metadata": {},
   "outputs": [
    {
     "data": {
      "text/plain": [
       "array([[61., 83., 51., 33.],\n",
       "       [64., 22., 86., 71.],\n",
       "       [21., 24.,  6., 12.],\n",
       "       [56., 52., 35., 76.]])"
      ]
     },
     "execution_count": 12,
     "metadata": {},
     "output_type": "execute_result"
    }
   ],
   "source": [
    "x"
   ]
  },
  {
   "cell_type": "code",
   "execution_count": 13,
   "metadata": {},
   "outputs": [
    {
     "data": {
      "text/plain": [
       "array([[55., 26., 87., 65.],\n",
       "       [37., 82., 69.,  9.],\n",
       "       [49., 28., 16., 98.],\n",
       "       [31., 60., 35., 17.]])"
      ]
     },
     "execution_count": 13,
     "metadata": {},
     "output_type": "execute_result"
    }
   ],
   "source": [
    "y"
   ]
  },
  {
   "cell_type": "code",
   "execution_count": 15,
   "metadata": {},
   "outputs": [
    {
     "data": {
      "text/plain": [
       "array([[ 7662., 13882.,  5550.,  2438.],\n",
       "       [ 8340.,  1296., 15068., 10118.],\n",
       "       [ 1078.,  1264.,   136.,   680.],\n",
       "       [ 6396.,  5648.,  2590., 11620.]])"
      ]
     },
     "execution_count": 15,
     "metadata": {},
     "output_type": "execute_result"
    }
   ],
   "source": [
    "z = 2*x**2+4*y\n",
    "z"
   ]
  },
  {
   "cell_type": "code",
   "execution_count": 25,
   "metadata": {},
   "outputs": [],
   "source": [
    "x_list = x.tolist()\n",
    "y_list = y.tolist()"
   ]
  },
  {
   "cell_type": "code",
   "execution_count": 30,
   "metadata": {},
   "outputs": [
    {
     "data": {
      "text/plain": [
       "[7442.0, 13778.0, 5202.0, 2178.0]"
      ]
     },
     "execution_count": 30,
     "metadata": {},
     "output_type": "execute_result"
    }
   ],
   "source": [
    " [2*i*i for i in x_list[0]]"
   ]
  },
  {
   "cell_type": "markdown",
   "metadata": {},
   "source": [
    "#### z = 2*x**2 + 4*y"
   ]
  },
  {
   "cell_type": "code",
   "execution_count": 34,
   "metadata": {},
   "outputs": [],
   "source": [
    "n = 10\n",
    "x = (100*np.random.random(n)).round()\n",
    "y = (100*np.random.random(n)).round()\n",
    "x_list = x.tolist()\n",
    "y_list = y.tolist()"
   ]
  },
  {
   "cell_type": "code",
   "execution_count": 36,
   "metadata": {},
   "outputs": [
    {
     "data": {
      "text/plain": [
       "array([93.,  4., 43., 83., 54., 95., 49., 53., 39., 87.])"
      ]
     },
     "execution_count": 36,
     "metadata": {},
     "output_type": "execute_result"
    }
   ],
   "source": [
    "x"
   ]
  },
  {
   "cell_type": "code",
   "execution_count": 37,
   "metadata": {},
   "outputs": [
    {
     "data": {
      "text/plain": [
       "array([25., 88., 44., 89., 41., 68., 57., 91., 96., 11.])"
      ]
     },
     "execution_count": 37,
     "metadata": {},
     "output_type": "execute_result"
    }
   ],
   "source": [
    "y"
   ]
  },
  {
   "cell_type": "code",
   "execution_count": 35,
   "metadata": {},
   "outputs": [
    {
     "data": {
      "text/plain": [
       "[93.0, 4.0, 43.0, 83.0, 54.0, 95.0, 49.0, 53.0, 39.0, 87.0]"
      ]
     },
     "execution_count": 35,
     "metadata": {},
     "output_type": "execute_result"
    }
   ],
   "source": [
    "x_list"
   ]
  },
  {
   "cell_type": "code",
   "execution_count": 38,
   "metadata": {},
   "outputs": [
    {
     "data": {
      "text/plain": [
       "[25.0, 88.0, 44.0, 89.0, 41.0, 68.0, 57.0, 91.0, 96.0, 11.0]"
      ]
     },
     "execution_count": 38,
     "metadata": {},
     "output_type": "execute_result"
    }
   ],
   "source": [
    "y_list"
   ]
  },
  {
   "cell_type": "markdown",
   "metadata": {},
   "source": [
    "расчёт времение с использованием list"
   ]
  },
  {
   "cell_type": "code",
   "execution_count": 43,
   "metadata": {},
   "outputs": [],
   "source": [
    "def f_list (x,y):\n",
    "    z = []\n",
    "    for i in range(len(x)):\n",
    "        z.append(2*x[i]*x[i] + 4*y[i])\n",
    "    return z"
   ]
  },
  {
   "cell_type": "code",
   "execution_count": 48,
   "metadata": {},
   "outputs": [
    {
     "name": "stdout",
     "output_type": "stream",
     "text": [
      "3.49 µs ± 403 ns per loop (mean ± std. dev. of 7 runs, 100000 loops each)\n"
     ]
    }
   ],
   "source": [
    "%timeit f_list(x_list,y_list)"
   ]
  },
  {
   "cell_type": "markdown",
   "metadata": {},
   "source": [
    "расчёт времение с использованием numpy"
   ]
  },
  {
   "cell_type": "code",
   "execution_count": 49,
   "metadata": {},
   "outputs": [
    {
     "name": "stdout",
     "output_type": "stream",
     "text": [
      "3.4 µs ± 467 ns per loop (mean ± std. dev. of 7 runs, 100000 loops each)\n"
     ]
    }
   ],
   "source": [
    "%timeit 2*x**2 + 4*y"
   ]
  },
  {
   "cell_type": "markdown",
   "metadata": {},
   "source": [
    "#### Перемножение матриц размера n на n"
   ]
  },
  {
   "cell_type": "code",
   "execution_count": 50,
   "metadata": {},
   "outputs": [],
   "source": [
    "n = 10\n",
    "x = (100*np.random.random((n, n))).round()\n",
    "y = (100*np.random.random((n, n))).round()"
   ]
  },
  {
   "cell_type": "code",
   "execution_count": 51,
   "metadata": {},
   "outputs": [],
   "source": [
    "x_list = x.tolist()\n",
    "y_list = y.tolist()"
   ]
  },
  {
   "cell_type": "code",
   "execution_count": 52,
   "metadata": {},
   "outputs": [
    {
     "data": {
      "text/plain": [
       "array([[ 18.,  99.,  53.,  54.,  95.,  74.,  59.,  66.,   4.,  21.],\n",
       "       [ 54.,  81.,  77.,  81.,  31.,   5.,  57.,  96.,  34.,  29.],\n",
       "       [  8.,  86.,  24.,  99.,  67.,  62., 100.,  42.,  23.,  54.],\n",
       "       [ 30.,  93.,  53.,   3.,  52.,  13.,  48.,  44.,  56.,  73.],\n",
       "       [ 78.,  83.,  78.,  32.,  65.,  31.,  73.,  70.,  69.,   9.],\n",
       "       [ 27.,  20.,  48.,  31.,  77.,  36.,  17.,  56.,  71.,  48.],\n",
       "       [ 97.,  91.,  93.,  85.,  46.,  85.,  36.,  53.,  88.,  21.],\n",
       "       [ 60.,  94.,  72.,   4.,   1.,  70.,  17.,  24.,  16.,  50.],\n",
       "       [ 95.,   7.,  30.,   7.,   1.,  45.,  73.,  24.,  11.,  90.],\n",
       "       [ 53.,  10.,  86.,  81.,  94.,  73.,   8.,  63.,  27.,  66.]])"
      ]
     },
     "execution_count": 52,
     "metadata": {},
     "output_type": "execute_result"
    }
   ],
   "source": [
    "x"
   ]
  },
  {
   "cell_type": "code",
   "execution_count": 53,
   "metadata": {},
   "outputs": [
    {
     "data": {
      "text/plain": [
       "array([[ 62.,  23.,  66.,   0.,  64.,  40.,  33.,  29.,  67.,  81.],\n",
       "       [ 34.,  35.,  30.,  91.,   6.,  90.,  79.,  30.,  85.,  32.],\n",
       "       [ 32.,  22.,  34.,  95.,  15.,  47.,  61.,  26.,  13.,  19.],\n",
       "       [ 71., 100.,  61.,  85.,  84.,   2.,   4.,  67.,  27.,  41.],\n",
       "       [ 49.,  55.,  88.,   3.,  13.,  18.,  25.,  85.,  77.,  40.],\n",
       "       [ 97.,  36., 100.,  19.,   7.,  36.,   2.,  91.,  45.,  35.],\n",
       "       [ 27.,  14.,  90.,   4.,  27.,  94.,  65.,  48.,  79.,  69.],\n",
       "       [ 81.,  81.,  83.,  51.,  68.,  65.,  71.,  21.,  48.,  93.],\n",
       "       [ 93.,  44.,  51.,  13.,  59.,  92.,  79.,  60.,  22.,  41.],\n",
       "       [ 82.,  60.,  95.,  41.,  34.,  56.,  49.,   8.,  66.,  36.]])"
      ]
     },
     "execution_count": 53,
     "metadata": {},
     "output_type": "execute_result"
    }
   ],
   "source": [
    "y"
   ]
  },
  {
   "cell_type": "markdown",
   "metadata": {},
   "source": [
    "Перемноженеи матриц с использованием numpy"
   ]
  },
  {
   "cell_type": "code",
   "execution_count": 58,
   "metadata": {},
   "outputs": [
    {
     "name": "stdout",
     "output_type": "stream",
     "text": [
      "1.79 µs ± 205 ns per loop (mean ± std. dev. of 7 runs, 100000 loops each)\n"
     ]
    }
   ],
   "source": [
    "%timeit x @ y"
   ]
  },
  {
   "cell_type": "code",
   "execution_count": 59,
   "metadata": {},
   "outputs": [
    {
     "name": "stdout",
     "output_type": "stream",
     "text": [
      "1.1 µs ± 13.4 ns per loop (mean ± std. dev. of 7 runs, 1000000 loops each)\n"
     ]
    }
   ],
   "source": [
    "%timeit x.dot(y)"
   ]
  },
  {
   "cell_type": "code",
   "execution_count": 60,
   "metadata": {},
   "outputs": [
    {
     "name": "stdout",
     "output_type": "stream",
     "text": [
      "1.65 µs ± 106 ns per loop (mean ± std. dev. of 7 runs, 1000000 loops each)\n"
     ]
    }
   ],
   "source": [
    "%timeit np.dot(x, y)"
   ]
  },
  {
   "cell_type": "markdown",
   "metadata": {},
   "source": [
    "### Упражнение 2\n",
    "* Создайте массив чисел от 2 до 75. Выведите только нечётные. \n",
    "* Присвойте нечётным числам этого массива значение -1.\n",
    "\n"
   ]
  },
  {
   "cell_type": "markdown",
   "metadata": {},
   "source": [
    "#### Создайте массив чисел от 2 до 75"
   ]
  },
  {
   "cell_type": "code",
   "execution_count": 68,
   "metadata": {},
   "outputs": [
    {
     "data": {
      "text/plain": [
       "array([ 2,  3,  4,  5,  6,  7,  8,  9, 10, 11, 12, 13, 14, 15, 16, 17, 18,\n",
       "       19, 20, 21, 22, 23, 24, 25, 26, 27, 28, 29, 30, 31, 32, 33, 34, 35,\n",
       "       36, 37, 38, 39, 40, 41, 42, 43, 44, 45, 46, 47, 48, 49, 50, 51, 52,\n",
       "       53, 54, 55, 56, 57, 58, 59, 60, 61, 62, 63, 64, 65, 66, 67, 68, 69,\n",
       "       70, 71, 72, 73, 74, 75])"
      ]
     },
     "execution_count": 68,
     "metadata": {},
     "output_type": "execute_result"
    }
   ],
   "source": [
    "a = np.arange(2, 75+1, step=1)\n",
    "a"
   ]
  },
  {
   "cell_type": "markdown",
   "metadata": {},
   "source": [
    "#### Выведите только нечётные"
   ]
  },
  {
   "cell_type": "code",
   "execution_count": 71,
   "metadata": {},
   "outputs": [
    {
     "data": {
      "text/plain": [
       "array([ 3,  5,  7,  9, 11, 13, 15, 17, 19, 21, 23, 25, 27, 29, 31, 33, 35,\n",
       "       37, 39, 41, 43, 45, 47, 49, 51, 53, 55, 57, 59, 61, 63, 65, 67, 69,\n",
       "       71, 73, 75])"
      ]
     },
     "execution_count": 71,
     "metadata": {},
     "output_type": "execute_result"
    }
   ],
   "source": [
    "a[1::2]"
   ]
  },
  {
   "cell_type": "markdown",
   "metadata": {},
   "source": [
    "#### Присвойте нечётным числам этого массива значение -1"
   ]
  },
  {
   "cell_type": "code",
   "execution_count": 75,
   "metadata": {},
   "outputs": [],
   "source": [
    "a[1::2]=-1"
   ]
  },
  {
   "cell_type": "code",
   "execution_count": 76,
   "metadata": {},
   "outputs": [
    {
     "data": {
      "text/plain": [
       "array([ 2, -1,  4, -1,  6, -1,  8, -1, 10, -1, 12, -1, 14, -1, 16, -1, 18,\n",
       "       -1, 20, -1, 22, -1, 24, -1, 26, -1, 28, -1, 30, -1, 32, -1, 34, -1,\n",
       "       36, -1, 38, -1, 40, -1, 42, -1, 44, -1, 46, -1, 48, -1, 50, -1, 52,\n",
       "       -1, 54, -1, 56, -1, 58, -1, 60, -1, 62, -1, 64, -1, 66, -1, 68, -1,\n",
       "       70, -1, 72, -1, 74, -1])"
      ]
     },
     "execution_count": 76,
     "metadata": {},
     "output_type": "execute_result"
    }
   ],
   "source": [
    "a"
   ]
  },
  {
   "cell_type": "markdown",
   "metadata": {},
   "source": [
    "### Упражнение 3\n",
    "\n",
    "* Найдите в документации функцию, которая удаляет из одного массива элементы, которые есть в другом. \n",
    "* Приведите примеры использования."
   ]
  },
  {
   "cell_type": "code",
   "execution_count": 89,
   "metadata": {},
   "outputs": [],
   "source": [
    "A = np.array([1,1,2,3,3,3,4,5,6,7,8,8])\n",
    "B = np.array([1,2,8])"
   ]
  },
  {
   "cell_type": "code",
   "execution_count": 91,
   "metadata": {},
   "outputs": [
    {
     "data": {
      "text/plain": [
       "array([0, 0, 1, 2, 2, 2, 2, 2, 2, 2, 2, 2], dtype=int64)"
      ]
     },
     "execution_count": 91,
     "metadata": {},
     "output_type": "execute_result"
    }
   ],
   "source": [
    "np.searchsorted(B,A)"
   ]
  },
  {
   "cell_type": "code",
   "execution_count": 90,
   "metadata": {},
   "outputs": [
    {
     "data": {
      "text/plain": [
       "array([3, 3, 3, 4, 5, 6, 7])"
      ]
     },
     "execution_count": 90,
     "metadata": {},
     "output_type": "execute_result"
    }
   ],
   "source": [
    "A[B[np.searchsorted(B,A)] !=  A]"
   ]
  },
  {
   "cell_type": "markdown",
   "metadata": {},
   "source": [
    "### Упражнение 4\n",
    "\n",
    "* Создайте случайную квадратную матрицу случайного размера от 10 до 100. \n",
    "* Найдите максимум и сумму элементов.\n",
    "* Поделите каждый элемент матрицы на максимум.\n",
    "* Отнимите от каждой строки матрицы среднее по строке.\n",
    "* Замените максимальное значение на -1."
   ]
  },
  {
   "cell_type": "code",
   "execution_count": 92,
   "metadata": {},
   "outputs": [],
   "source": [
    "n=10\n",
    "x = (100*np.random.random((n, n))).round()"
   ]
  },
  {
   "cell_type": "code",
   "execution_count": 93,
   "metadata": {},
   "outputs": [
    {
     "data": {
      "text/plain": [
       "array([[23., 79., 70.,  1., 52., 33., 52., 24., 98.,  5.],\n",
       "       [75., 87., 98., 73., 69., 97.,  3., 68., 83.,  8.],\n",
       "       [67.,  5., 82., 44., 91., 81., 63., 99.,  6.,  8.],\n",
       "       [97.,  3., 36., 26., 52., 68., 93.,  3., 21., 60.],\n",
       "       [68., 83., 92., 42., 58., 79., 91., 57., 82., 96.],\n",
       "       [56., 44., 18., 17., 65., 20., 38., 11., 58., 52.],\n",
       "       [37.,  2., 23., 99., 97., 22.,  1., 12., 33., 86.],\n",
       "       [61., 20., 51., 28., 52., 80., 55., 33., 26., 52.],\n",
       "       [92., 58., 21., 76., 72., 10., 14., 51., 55., 20.],\n",
       "       [81., 79.,  1., 44., 27., 89., 82., 23., 24., 65.]])"
      ]
     },
     "execution_count": 93,
     "metadata": {},
     "output_type": "execute_result"
    }
   ],
   "source": [
    "x"
   ]
  },
  {
   "cell_type": "markdown",
   "metadata": {},
   "source": [
    "#### Найдите максимум"
   ]
  },
  {
   "cell_type": "code",
   "execution_count": 96,
   "metadata": {},
   "outputs": [
    {
     "data": {
      "text/plain": [
       "99.0"
      ]
     },
     "execution_count": 96,
     "metadata": {},
     "output_type": "execute_result"
    }
   ],
   "source": [
    "x.max()"
   ]
  },
  {
   "cell_type": "markdown",
   "metadata": {},
   "source": [
    "#### сумму элементов"
   ]
  },
  {
   "cell_type": "code",
   "execution_count": 95,
   "metadata": {},
   "outputs": [
    {
     "data": {
      "text/plain": [
       "5084.0"
      ]
     },
     "execution_count": 95,
     "metadata": {},
     "output_type": "execute_result"
    }
   ],
   "source": [
    "x.sum()"
   ]
  },
  {
   "cell_type": "markdown",
   "metadata": {},
   "source": [
    "#### Поделите каждый элемент матрицы на максимум"
   ]
  },
  {
   "cell_type": "code",
   "execution_count": 97,
   "metadata": {},
   "outputs": [
    {
     "data": {
      "text/plain": [
       "array([[0.23232323, 0.7979798 , 0.70707071, 0.01010101, 0.52525253,\n",
       "        0.33333333, 0.52525253, 0.24242424, 0.98989899, 0.05050505],\n",
       "       [0.75757576, 0.87878788, 0.98989899, 0.73737374, 0.6969697 ,\n",
       "        0.97979798, 0.03030303, 0.68686869, 0.83838384, 0.08080808],\n",
       "       [0.67676768, 0.05050505, 0.82828283, 0.44444444, 0.91919192,\n",
       "        0.81818182, 0.63636364, 1.        , 0.06060606, 0.08080808],\n",
       "       [0.97979798, 0.03030303, 0.36363636, 0.26262626, 0.52525253,\n",
       "        0.68686869, 0.93939394, 0.03030303, 0.21212121, 0.60606061],\n",
       "       [0.68686869, 0.83838384, 0.92929293, 0.42424242, 0.58585859,\n",
       "        0.7979798 , 0.91919192, 0.57575758, 0.82828283, 0.96969697],\n",
       "       [0.56565657, 0.44444444, 0.18181818, 0.17171717, 0.65656566,\n",
       "        0.2020202 , 0.38383838, 0.11111111, 0.58585859, 0.52525253],\n",
       "       [0.37373737, 0.02020202, 0.23232323, 1.        , 0.97979798,\n",
       "        0.22222222, 0.01010101, 0.12121212, 0.33333333, 0.86868687],\n",
       "       [0.61616162, 0.2020202 , 0.51515152, 0.28282828, 0.52525253,\n",
       "        0.80808081, 0.55555556, 0.33333333, 0.26262626, 0.52525253],\n",
       "       [0.92929293, 0.58585859, 0.21212121, 0.76767677, 0.72727273,\n",
       "        0.1010101 , 0.14141414, 0.51515152, 0.55555556, 0.2020202 ],\n",
       "       [0.81818182, 0.7979798 , 0.01010101, 0.44444444, 0.27272727,\n",
       "        0.8989899 , 0.82828283, 0.23232323, 0.24242424, 0.65656566]])"
      ]
     },
     "execution_count": 97,
     "metadata": {},
     "output_type": "execute_result"
    }
   ],
   "source": [
    "x / x.max()"
   ]
  },
  {
   "cell_type": "markdown",
   "metadata": {},
   "source": [
    "#### Отнимите от каждой строки матрицы среднее по строке."
   ]
  },
  {
   "cell_type": "code",
   "execution_count": 99,
   "metadata": {},
   "outputs": [
    {
     "data": {
      "text/plain": [
       "50.84"
      ]
     },
     "execution_count": 99,
     "metadata": {},
     "output_type": "execute_result"
    }
   ],
   "source": [
    "x.mean()"
   ]
  },
  {
   "cell_type": "code",
   "execution_count": 101,
   "metadata": {},
   "outputs": [
    {
     "data": {
      "text/plain": [
       "array([[-27.84,  28.16,  19.16, -49.84,   1.16, -17.84,   1.16, -26.84,\n",
       "         47.16, -45.84],\n",
       "       [ 24.16,  36.16,  47.16,  22.16,  18.16,  46.16, -47.84,  17.16,\n",
       "         32.16, -42.84],\n",
       "       [ 16.16, -45.84,  31.16,  -6.84,  40.16,  30.16,  12.16,  48.16,\n",
       "        -44.84, -42.84],\n",
       "       [ 46.16, -47.84, -14.84, -24.84,   1.16,  17.16,  42.16, -47.84,\n",
       "        -29.84,   9.16],\n",
       "       [ 17.16,  32.16,  41.16,  -8.84,   7.16,  28.16,  40.16,   6.16,\n",
       "         31.16,  45.16],\n",
       "       [  5.16,  -6.84, -32.84, -33.84,  14.16, -30.84, -12.84, -39.84,\n",
       "          7.16,   1.16],\n",
       "       [-13.84, -48.84, -27.84,  48.16,  46.16, -28.84, -49.84, -38.84,\n",
       "        -17.84,  35.16],\n",
       "       [ 10.16, -30.84,   0.16, -22.84,   1.16,  29.16,   4.16, -17.84,\n",
       "        -24.84,   1.16],\n",
       "       [ 41.16,   7.16, -29.84,  25.16,  21.16, -40.84, -36.84,   0.16,\n",
       "          4.16, -30.84],\n",
       "       [ 30.16,  28.16, -49.84,  -6.84, -23.84,  38.16,  31.16, -27.84,\n",
       "        -26.84,  14.16]])"
      ]
     },
     "execution_count": 101,
     "metadata": {},
     "output_type": "execute_result"
    }
   ],
   "source": [
    "x - x.mean()"
   ]
  },
  {
   "cell_type": "markdown",
   "metadata": {},
   "source": [
    "#### Замените максимальное значение на -1"
   ]
  },
  {
   "cell_type": "code",
   "execution_count": 102,
   "metadata": {},
   "outputs": [],
   "source": [
    "x[x==x.max()]= -1"
   ]
  },
  {
   "cell_type": "code",
   "execution_count": 103,
   "metadata": {},
   "outputs": [
    {
     "data": {
      "text/plain": [
       "array([[23., 79., 70.,  1., 52., 33., 52., 24., 98.,  5.],\n",
       "       [75., 87., 98., 73., 69., 97.,  3., 68., 83.,  8.],\n",
       "       [67.,  5., 82., 44., 91., 81., 63., -1.,  6.,  8.],\n",
       "       [97.,  3., 36., 26., 52., 68., 93.,  3., 21., 60.],\n",
       "       [68., 83., 92., 42., 58., 79., 91., 57., 82., 96.],\n",
       "       [56., 44., 18., 17., 65., 20., 38., 11., 58., 52.],\n",
       "       [37.,  2., 23., -1., 97., 22.,  1., 12., 33., 86.],\n",
       "       [61., 20., 51., 28., 52., 80., 55., 33., 26., 52.],\n",
       "       [92., 58., 21., 76., 72., 10., 14., 51., 55., 20.],\n",
       "       [81., 79.,  1., 44., 27., 89., 82., 23., 24., 65.]])"
      ]
     },
     "execution_count": 103,
     "metadata": {},
     "output_type": "execute_result"
    }
   ],
   "source": [
    "x"
   ]
  },
  {
   "cell_type": "markdown",
   "metadata": {},
   "source": [
    "### Упражнение 5\n",
    "* Напишите функцию, которая берет многомерный вещественный массив с пропущенными значениями (np.nan) и возвращает его копию с заполненными пропусками (заменять средним значением всех элементов массива). Если в массиве одни пропущенные значения, заполните их нулями."
   ]
  },
  {
   "cell_type": "code",
   "execution_count": 187,
   "metadata": {},
   "outputs": [
    {
     "data": {
      "text/plain": [
       "array([[ 1., nan],\n",
       "       [nan,  3.]])"
      ]
     },
     "execution_count": 187,
     "metadata": {},
     "output_type": "execute_result"
    }
   ],
   "source": [
    "a = np.array([[1,np.nan],[np.nan,3]])\n",
    "a"
   ]
  },
  {
   "cell_type": "code",
   "execution_count": 188,
   "metadata": {},
   "outputs": [
    {
     "data": {
      "text/plain": [
       "array([[nan, nan],\n",
       "       [nan, nan]])"
      ]
     },
     "execution_count": 188,
     "metadata": {},
     "output_type": "execute_result"
    }
   ],
   "source": [
    "b = np.array([[np.nan,np.nan],[np.nan,np.nan]])\n",
    "b"
   ]
  },
  {
   "cell_type": "code",
   "execution_count": 189,
   "metadata": {},
   "outputs": [
    {
     "data": {
      "text/plain": [
       "array([[ True, False],\n",
       "       [False,  True]])"
      ]
     },
     "execution_count": 189,
     "metadata": {},
     "output_type": "execute_result"
    }
   ],
   "source": [
    "bool_idx  = (~np.isnan(a))\n",
    "bool_idx"
   ]
  },
  {
   "cell_type": "code",
   "execution_count": 190,
   "metadata": {},
   "outputs": [],
   "source": [
    "def f_5 (v_a):\n",
    "    idx_notNAN  = (~np.isnan(v_a))\n",
    "    idx_NAN  = (np.isnan(v_a))\n",
    "    \n",
    "    v_a[idx_NAN] = v_a[idx_notNAN].mean()\n",
    "    \n",
    "    if np.isnan(v_a.sum()):\n",
    "        v_a[idx_NAN] = 0\n",
    "    \n",
    "    return v_a"
   ]
  },
  {
   "cell_type": "code",
   "execution_count": 191,
   "metadata": {},
   "outputs": [
    {
     "data": {
      "text/plain": [
       "array([[1., 2.],\n",
       "       [2., 3.]])"
      ]
     },
     "execution_count": 191,
     "metadata": {},
     "output_type": "execute_result"
    }
   ],
   "source": [
    "f_5(a)"
   ]
  },
  {
   "cell_type": "code",
   "execution_count": 192,
   "metadata": {},
   "outputs": [
    {
     "name": "stderr",
     "output_type": "stream",
     "text": [
      "E:\\Anaconda353\\lib\\site-packages\\ipykernel_launcher.py:5: RuntimeWarning: Mean of empty slice.\n",
      "  \"\"\"\n"
     ]
    },
    {
     "data": {
      "text/plain": [
       "array([[0., 0.],\n",
       "       [0., 0.]])"
      ]
     },
     "execution_count": 192,
     "metadata": {},
     "output_type": "execute_result"
    }
   ],
   "source": [
    "f_5(b)"
   ]
  },
  {
   "cell_type": "markdown",
   "metadata": {},
   "source": [
    "### Упражнение 6\n",
    "* Напишите функцию которая нормализирует заданный numpy-массив, так чтобы его значения лежали в интервале $[0, 1]$."
   ]
  },
  {
   "cell_type": "code",
   "execution_count": 181,
   "metadata": {},
   "outputs": [
    {
     "data": {
      "text/plain": [
       "array([[-48.,  25.,   6.,   7.,  15.,  49.,  -1.],\n",
       "       [-10., -27., -13., -11.,  32.,  33.,  35.],\n",
       "       [ 29.,  32., -28., -31., -11.,   3., -14.],\n",
       "       [ -4.,  14.,  21.,  13., -43.,  40., -43.],\n",
       "       [ 25.,  13., -35., -27., -13.,  44.,  40.],\n",
       "       [-44.,  23., -15.,  13.,  29.,  16.,  42.],\n",
       "       [  6.,  27.,   9.,  19.,  -7.,   4.,  13.],\n",
       "       [-34.,  30.,  18., -44., -29., -48., -26.]])"
      ]
     },
     "execution_count": 181,
     "metadata": {},
     "output_type": "execute_result"
    }
   ],
   "source": [
    "n=8\n",
    "m=7\n",
    "x = (100*np.random.random((n, m))).round() - 50\n",
    "x"
   ]
  },
  {
   "cell_type": "code",
   "execution_count": 182,
   "metadata": {},
   "outputs": [],
   "source": [
    "def f_6 (A):\n",
    "    A = A - A.min()\n",
    "    A = A/A.max()\n",
    "    return A"
   ]
  },
  {
   "cell_type": "code",
   "execution_count": 183,
   "metadata": {},
   "outputs": [
    {
     "data": {
      "text/plain": [
       "array([[0.        , 0.75257732, 0.55670103, 0.56701031, 0.64948454,\n",
       "        1.        , 0.48453608],\n",
       "       [0.39175258, 0.21649485, 0.36082474, 0.3814433 , 0.82474227,\n",
       "        0.83505155, 0.8556701 ],\n",
       "       [0.79381443, 0.82474227, 0.20618557, 0.17525773, 0.3814433 ,\n",
       "        0.5257732 , 0.35051546],\n",
       "       [0.45360825, 0.63917526, 0.71134021, 0.62886598, 0.05154639,\n",
       "        0.90721649, 0.05154639],\n",
       "       [0.75257732, 0.62886598, 0.13402062, 0.21649485, 0.36082474,\n",
       "        0.94845361, 0.90721649],\n",
       "       [0.04123711, 0.73195876, 0.34020619, 0.62886598, 0.79381443,\n",
       "        0.65979381, 0.92783505],\n",
       "       [0.55670103, 0.77319588, 0.58762887, 0.69072165, 0.42268041,\n",
       "        0.53608247, 0.62886598],\n",
       "       [0.1443299 , 0.80412371, 0.68041237, 0.04123711, 0.19587629,\n",
       "        0.        , 0.22680412]])"
      ]
     },
     "execution_count": 183,
     "metadata": {},
     "output_type": "execute_result"
    }
   ],
   "source": [
    "f_6(x)"
   ]
  },
  {
   "cell_type": "markdown",
   "metadata": {},
   "source": [
    "### Упражнение 7\n",
    "* Запишите numpy-array в файл.\n",
    "* Считайте numpy-array из файла."
   ]
  },
  {
   "cell_type": "code",
   "execution_count": 193,
   "metadata": {},
   "outputs": [
    {
     "data": {
      "text/plain": [
       "array([[-47.,  43.,  -4.,   3., -13., -33., -26.],\n",
       "       [-33.,  20.,  -2.,  47.,  11.,  22.,  30.],\n",
       "       [-40., -23.,  12., -20.,  30., -43., -28.],\n",
       "       [ 46.,  15., -39., -11., -48.,   5.,  10.],\n",
       "       [ 12., -44., -26.,  -5.,  33., -33.,  18.],\n",
       "       [ 42.,  20.,   6.,  16., -38.,  11.,  36.],\n",
       "       [ 16., -15.,  21.,  -3., -10., -20., -43.],\n",
       "       [-13.,  43.,   2., -23., -17., -15., -13.]])"
      ]
     },
     "execution_count": 193,
     "metadata": {},
     "output_type": "execute_result"
    }
   ],
   "source": [
    "n=8\n",
    "m=7\n",
    "x = (100*np.random.random((n, m))).round() - 50\n",
    "x"
   ]
  },
  {
   "cell_type": "markdown",
   "metadata": {},
   "source": [
    "#### Запишите numpy-array в файл."
   ]
  },
  {
   "cell_type": "code",
   "execution_count": 195,
   "metadata": {},
   "outputs": [],
   "source": [
    "np.savetxt('data.csv', x, delimiter=',')"
   ]
  },
  {
   "cell_type": "markdown",
   "metadata": {},
   "source": [
    "#### Считайте numpy-array из файла"
   ]
  },
  {
   "cell_type": "code",
   "execution_count": 198,
   "metadata": {},
   "outputs": [
    {
     "data": {
      "text/plain": [
       "array([[-47.,  43.,  -4.,   3., -13., -33., -26.],\n",
       "       [-33.,  20.,  -2.,  47.,  11.,  22.,  30.],\n",
       "       [-40., -23.,  12., -20.,  30., -43., -28.],\n",
       "       [ 46.,  15., -39., -11., -48.,   5.,  10.],\n",
       "       [ 12., -44., -26.,  -5.,  33., -33.,  18.],\n",
       "       [ 42.,  20.,   6.,  16., -38.,  11.,  36.],\n",
       "       [ 16., -15.,  21.,  -3., -10., -20., -43.],\n",
       "       [-13.,  43.,   2., -23., -17., -15., -13.]])"
      ]
     },
     "execution_count": 198,
     "metadata": {},
     "output_type": "execute_result"
    }
   ],
   "source": [
    "x_read = np.loadtxt('data.csv', delimiter=',')\n",
    "x_read"
   ]
  },
  {
   "cell_type": "markdown",
   "metadata": {},
   "source": [
    "### Упражнение 8\n",
    "* Создайте случайный массив\n",
    "* Найдите в массиве элемент ближайший к данному"
   ]
  },
  {
   "cell_type": "code",
   "execution_count": 216,
   "metadata": {},
   "outputs": [
    {
     "data": {
      "text/plain": [
       "array([[ 28.,   4.,   8.,  28.,   6.,  69.,  95.],\n",
       "       [ 10.,  45.,  19.,  33.,  51.,  51.,  62.],\n",
       "       [ 43.,  74.,  89.,  34.,  86.,  78.,  26.],\n",
       "       [ 44.,  36.,  26.,  42., 100.,   3.,  17.],\n",
       "       [ 15.,  65.,  13.,  41.,  38.,  64.,  95.],\n",
       "       [ 52.,  77.,  67.,  84.,  38.,  67.,  31.],\n",
       "       [ 78.,   0.,  74.,  45.,  92.,  14.,   1.],\n",
       "       [ 62.,  81.,  94.,   9.,  69.,  76.,   6.]])"
      ]
     },
     "execution_count": 216,
     "metadata": {},
     "output_type": "execute_result"
    }
   ],
   "source": [
    "n=8\n",
    "m=7\n",
    "x = (100*np.random.random((n, m))).round()\n",
    "x"
   ]
  },
  {
   "cell_type": "code",
   "execution_count": 217,
   "metadata": {},
   "outputs": [],
   "source": [
    "# заданный элемент\n",
    "y=37"
   ]
  },
  {
   "cell_type": "code",
   "execution_count": 218,
   "metadata": {},
   "outputs": [
    {
     "data": {
      "text/plain": [
       "array([[ 9., 33., 29.,  9., 31., 32., 58.],\n",
       "       [27.,  8., 18.,  4., 14., 14., 25.],\n",
       "       [ 6., 37., 52.,  3., 49., 41., 11.],\n",
       "       [ 7.,  1., 11.,  5., 63., 34., 20.],\n",
       "       [22., 28., 24.,  4.,  1., 27., 58.],\n",
       "       [15., 40., 30., 47.,  1., 30.,  6.],\n",
       "       [41., 37., 37.,  8., 55., 23., 36.],\n",
       "       [25., 44., 57., 28., 32., 39., 31.]])"
      ]
     },
     "execution_count": 218,
     "metadata": {},
     "output_type": "execute_result"
    }
   ],
   "source": [
    "diff = np.sign(x-y)*(x-y)\n",
    "diff"
   ]
  },
  {
   "cell_type": "code",
   "execution_count": 219,
   "metadata": {},
   "outputs": [
    {
     "data": {
      "text/plain": [
       "array([36., 38., 38.])"
      ]
     },
     "execution_count": 219,
     "metadata": {},
     "output_type": "execute_result"
    }
   ],
   "source": [
    "x[diff == diff.min()]"
   ]
  },
  {
   "cell_type": "markdown",
   "metadata": {},
   "source": [
    "### Упражнение 9"
   ]
  },
  {
   "cell_type": "markdown",
   "metadata": {},
   "source": [
    "* Напишите функцию, которая возвращает  $n \\times m$ целочисленную матрицу с заданным значением на границах матрицы и с заданным значением внутри"
   ]
  },
  {
   "cell_type": "code",
   "execution_count": 221,
   "metadata": {},
   "outputs": [],
   "source": [
    "n=8\n",
    "m=7\n",
    "\n",
    "# граница\n",
    "edge = 1\n",
    "\n",
    "# внутри\n",
    "inside = 0"
   ]
  },
  {
   "cell_type": "code",
   "execution_count": 234,
   "metadata": {},
   "outputs": [
    {
     "data": {
      "text/plain": [
       "array([[0, 0, 0, 0, 0, 0, 0],\n",
       "       [0, 0, 0, 0, 0, 0, 0],\n",
       "       [0, 0, 0, 0, 0, 0, 0],\n",
       "       [0, 0, 0, 0, 0, 0, 0],\n",
       "       [0, 0, 0, 0, 0, 0, 0],\n",
       "       [0, 0, 0, 0, 0, 0, 0],\n",
       "       [0, 0, 0, 0, 0, 0, 0],\n",
       "       [0, 0, 0, 0, 0, 0, 0]])"
      ]
     },
     "execution_count": 234,
     "metadata": {},
     "output_type": "execute_result"
    }
   ],
   "source": [
    "a = np.full((n, m), inside)\n",
    "a"
   ]
  },
  {
   "cell_type": "code",
   "execution_count": 235,
   "metadata": {},
   "outputs": [
    {
     "data": {
      "text/plain": [
       "array([[1, 1, 1, 1, 1, 1, 1],\n",
       "       [1, 0, 0, 0, 0, 0, 1],\n",
       "       [1, 0, 0, 0, 0, 0, 1],\n",
       "       [1, 0, 0, 0, 0, 0, 1],\n",
       "       [1, 0, 0, 0, 0, 0, 1],\n",
       "       [1, 0, 0, 0, 0, 0, 1],\n",
       "       [1, 0, 0, 0, 0, 0, 1],\n",
       "       [1, 1, 1, 1, 1, 1, 1]])"
      ]
     },
     "execution_count": 235,
     "metadata": {},
     "output_type": "execute_result"
    }
   ],
   "source": [
    "a[0,:] = edge\n",
    "a[n-1,:] = edge\n",
    "a[:,0] = edge\n",
    "a[:,m-1] = edge\n",
    "a"
   ]
  },
  {
   "cell_type": "markdown",
   "metadata": {},
   "source": [
    "### Упражнение 10\n",
    "* Напишите функцию, которая сортирует строки данной матрицы по значениям заданного столбца в порядке убывания. "
   ]
  },
  {
   "cell_type": "code",
   "execution_count": 236,
   "metadata": {},
   "outputs": [
    {
     "data": {
      "text/plain": [
       "array([[82.,  4., 13., 20., 39., 76., 34.],\n",
       "       [ 3., 16., 30., 84., 33., 22., 83.],\n",
       "       [91., 90., 77., 45., 95.,  8., 57.],\n",
       "       [91., 69., 30., 76., 33.,  2., 77.],\n",
       "       [16., 40., 79., 68., 38., 52., 45.],\n",
       "       [52., 32.,  3., 70., 79., 80., 61.],\n",
       "       [78., 69., 21.,  4., 12., 56., 59.],\n",
       "       [81., 65., 75., 54., 53., 73., 78.]])"
      ]
     },
     "execution_count": 236,
     "metadata": {},
     "output_type": "execute_result"
    }
   ],
   "source": [
    "n=8\n",
    "m=7\n",
    "x = (100*np.random.random((n, m))).round()\n",
    "x"
   ]
  },
  {
   "cell_type": "code",
   "execution_count": 245,
   "metadata": {},
   "outputs": [],
   "source": [
    "# номер столбца (c 1)\n",
    "col_num = 2"
   ]
  },
  {
   "cell_type": "code",
   "execution_count": 244,
   "metadata": {},
   "outputs": [],
   "source": [
    "def f_10 (A,column_num):\n",
    "    col_value= A[:,column_num-1]\n",
    "    ind = col_value.argsort(kind='quicksort') \n",
    "    return A[ind]"
   ]
  },
  {
   "cell_type": "code",
   "execution_count": 246,
   "metadata": {},
   "outputs": [
    {
     "data": {
      "text/plain": [
       "array([[82.,  4., 13., 20., 39., 76., 34.],\n",
       "       [ 3., 16., 30., 84., 33., 22., 83.],\n",
       "       [52., 32.,  3., 70., 79., 80., 61.],\n",
       "       [16., 40., 79., 68., 38., 52., 45.],\n",
       "       [81., 65., 75., 54., 53., 73., 78.],\n",
       "       [91., 69., 30., 76., 33.,  2., 77.],\n",
       "       [78., 69., 21.,  4., 12., 56., 59.],\n",
       "       [91., 90., 77., 45., 95.,  8., 57.]])"
      ]
     },
     "execution_count": 246,
     "metadata": {},
     "output_type": "execute_result"
    }
   ],
   "source": [
    "f_10(x,col)"
   ]
  },
  {
   "cell_type": "markdown",
   "metadata": {},
   "source": [
    "### Упражнение 11\n",
    "\n",
    "* Напишите функцию, которая создает двоичную матрицу шахматной доски с заданным shape\n",
    "\n",
    "Пример 4x4:\n",
    "```python\n",
    "[[0, 1, 0, 1],\n",
    " [1, 0, 1, 0],\n",
    " [0, 1, 0, 1],\n",
    " [1, 0, 1, 0]]\n",
    "```"
   ]
  },
  {
   "cell_type": "code",
   "execution_count": null,
   "metadata": {},
   "outputs": [],
   "source": [
    "n = 4"
   ]
  },
  {
   "cell_type": "code",
   "execution_count": 267,
   "metadata": {},
   "outputs": [],
   "source": [
    "def f_11(n):\n",
    "    x = np.empty(shape=(n, n))\n",
    "    \n",
    "    row_1 = np.full((n), 0)\n",
    "    row_1[1::2]=1\n",
    "\n",
    "    row_2 = np.full((n), 1)\n",
    "    row_2[1::2]=0\n",
    "    \n",
    "    x[0::2] =row_1\n",
    "    x[1::2] =row_2\n",
    "    \n",
    "    return x"
   ]
  },
  {
   "cell_type": "code",
   "execution_count": 269,
   "metadata": {},
   "outputs": [
    {
     "data": {
      "text/plain": [
       "array([[0., 1., 0., 1., 0., 1., 0., 1., 0., 1., 0., 1., 0., 1.],\n",
       "       [1., 0., 1., 0., 1., 0., 1., 0., 1., 0., 1., 0., 1., 0.],\n",
       "       [0., 1., 0., 1., 0., 1., 0., 1., 0., 1., 0., 1., 0., 1.],\n",
       "       [1., 0., 1., 0., 1., 0., 1., 0., 1., 0., 1., 0., 1., 0.],\n",
       "       [0., 1., 0., 1., 0., 1., 0., 1., 0., 1., 0., 1., 0., 1.],\n",
       "       [1., 0., 1., 0., 1., 0., 1., 0., 1., 0., 1., 0., 1., 0.],\n",
       "       [0., 1., 0., 1., 0., 1., 0., 1., 0., 1., 0., 1., 0., 1.],\n",
       "       [1., 0., 1., 0., 1., 0., 1., 0., 1., 0., 1., 0., 1., 0.],\n",
       "       [0., 1., 0., 1., 0., 1., 0., 1., 0., 1., 0., 1., 0., 1.],\n",
       "       [1., 0., 1., 0., 1., 0., 1., 0., 1., 0., 1., 0., 1., 0.],\n",
       "       [0., 1., 0., 1., 0., 1., 0., 1., 0., 1., 0., 1., 0., 1.],\n",
       "       [1., 0., 1., 0., 1., 0., 1., 0., 1., 0., 1., 0., 1., 0.],\n",
       "       [0., 1., 0., 1., 0., 1., 0., 1., 0., 1., 0., 1., 0., 1.],\n",
       "       [1., 0., 1., 0., 1., 0., 1., 0., 1., 0., 1., 0., 1., 0.]])"
      ]
     },
     "execution_count": 269,
     "metadata": {},
     "output_type": "execute_result"
    }
   ],
   "source": [
    "f_11(14)"
   ]
  },
  {
   "cell_type": "markdown",
   "metadata": {},
   "source": [
    "### Упражнение 12\n",
    "* Напишите игру [life](https://en.wikipedia.org/wiki/Conway%27s_Game_of_Life), используя массивы numpy.\n",
    "* Визуализируйте интерактивно ее результаты.\n",
    "\n"
   ]
  },
  {
   "cell_type": "code",
   "execution_count": 415,
   "metadata": {},
   "outputs": [],
   "source": [
    "import matplotlib.pyplot as plt\n",
    "import time\n",
    "from IPython import display"
   ]
  },
  {
   "cell_type": "code",
   "execution_count": 320,
   "metadata": {},
   "outputs": [],
   "source": [
    "palette = np.array([[255, 255, 255],         # белый\n",
    "                    [0, 0, 255]]      # голубой\n",
    "                    )  # "
   ]
  },
  {
   "cell_type": "code",
   "execution_count": 428,
   "metadata": {},
   "outputs": [
    {
     "data": {
      "text/plain": [
       "array([[0, 0, 0, ..., 0, 1, 0],\n",
       "       [1, 0, 1, ..., 0, 0, 0],\n",
       "       [1, 0, 0, ..., 1, 1, 0],\n",
       "       ...,\n",
       "       [0, 0, 1, ..., 0, 0, 0],\n",
       "       [0, 0, 0, ..., 1, 0, 0],\n",
       "       [1, 0, 0, ..., 0, 0, 0]])"
      ]
     },
     "execution_count": 428,
     "metadata": {},
     "output_type": "execute_result"
    }
   ],
   "source": [
    "# Стартовая позиция\n",
    "n = 40\n",
    "a = np.abs(np.round((np.random.random((n, n)))-0.2)).astype('int')\n",
    "a"
   ]
  },
  {
   "cell_type": "code",
   "execution_count": 429,
   "metadata": {},
   "outputs": [
    {
     "data": {
      "text/plain": [
       "<matplotlib.image.AxesImage at 0x1fdebabff98>"
      ]
     },
     "execution_count": 429,
     "metadata": {},
     "output_type": "execute_result"
    },
    {
     "data": {
      "image/png": "[encoded data removed]",
      "text/plain": [
       "<Figure size 1440x720 with 1 Axes>"
      ]
     },
     "metadata": {
      "needs_background": "light"
     },
     "output_type": "display_data"
    }
   ],
   "source": [
    "fig = plt.figure(figsize=(20, 10))\n",
    "plt.imshow(palette[a])"
   ]
  },
  {
   "cell_type": "code",
   "execution_count": 431,
   "metadata": {},
   "outputs": [
    {
     "data": {
      "image/png": "[encoded data removed]",
      "text/plain": [
       "<Figure size 1440x720 with 1 Axes>"
      ]
     },
     "metadata": {
      "needs_background": "light"
     },
     "output_type": "display_data"
    }
   ],
   "source": [
    "step = 100\n",
    "\n",
    "for i in range(step):\n",
    "    a_new = np.empty(shape = (n,n)).astype('int')\n",
    "    for x in range(n):\n",
    "        for y in range(n):\n",
    "            cur = a[x,y]\n",
    "            cur_sum = a[max(x-1,0):x+1+1,max(y-1,0):y+1+1].sum() - a[x,y]\n",
    "\n",
    "            if  ((cur == 1) & (cur_sum in [2,3])) | ((cur == 0) & (cur_sum == 3)):\n",
    "                new = 1\n",
    "            else:\n",
    "                new = 0\n",
    "\n",
    "            #print(\"x = \",x,\"y = \",y,\"cur = \", cur, \"cur_sum = \", cur_sum,\"new = \", new)\n",
    "            a_new[x,y] =  new  \n",
    "    \n",
    "    a = a_new\n",
    "    \n",
    "    \n",
    "    fig = plt.figure(figsize=(20, 10))\n",
    "    plt.imshow(palette[a])\n",
    "    \n",
    "    plt.show()\n",
    "    \n",
    "    display.clear_output(wait=True)\n",
    "    time.sleep(0.3)"
   ]
  }
 ],
 "metadata": {
  "kernelspec": {
   "display_name": "Python 3",
   "language": "python",
   "name": "python3"
  },
  "language_info": {
   "codemirror_mode": {
    "name": "ipython",
    "version": 3
   },
   "file_extension": ".py",
   "mimetype": "text/x-python",
   "name": "python",
   "nbconvert_exporter": "python",
   "pygments_lexer": "ipython3",
   "version": "3.7.0"
  },
  "toc": {
   "base_numbering": 1,
   "nav_menu": {},
   "number_sections": true,
   "sideBar": true,
   "skip_h1_title": false,
   "title_cell": "Table of Contents",
   "title_sidebar": "Contents",
   "toc_cell": false,
   "toc_position": {},
   "toc_section_display": true,
   "toc_window_display": true
  },
  "varInspector": {
   "cols": {
    "lenName": 16,
    "lenType": 16,
    "lenVar": 40
   },
   "kernels_config": {
    "python": {
     "delete_cmd_postfix": "",
     "delete_cmd_prefix": "del ",
     "library": "var_list.py",
     "varRefreshCmd": "print(var_dic_list())"
    },
    "r": {
     "delete_cmd_postfix": ") ",
     "delete_cmd_prefix": "rm(",
     "library": "var_list.r",
     "varRefreshCmd": "cat(var_dic_list()) "
    }
   },
   "types_to_exclude": [
    "module",
    "function",
    "builtin_function_or_method",
    "instance",
    "_Feature"
   ],
   "window_display": false
  }
 },
 "nbformat": 4,
 "nbformat_minor": 2
}
